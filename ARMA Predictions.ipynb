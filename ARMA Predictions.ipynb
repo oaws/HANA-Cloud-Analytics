{
 "cells": [
  {
   "cell_type": "code",
   "execution_count": 1,
   "metadata": {
    "collapsed": true
   },
   "outputs": [],
   "source": [
    "import sys\n",
    "import pandas as pd"
   ]
  },
  {
   "cell_type": "code",
   "execution_count": 2,
   "metadata": {
    "collapsed": false
   },
   "outputs": [],
   "source": [
    "df = pd.read_csv('GV_Model_ASIN.txt', sep='\\t')"
   ]
  },
  {
   "cell_type": "code",
   "execution_count": 3,
   "metadata": {
    "collapsed": false
   },
   "outputs": [
    {
     "data": {
      "text/plain": [
       "(77702, 15)"
      ]
     },
     "execution_count": 3,
     "metadata": {},
     "output_type": "execute_result"
    }
   ],
   "source": [
    "df.shape"
   ]
  },
  {
   "cell_type": "code",
   "execution_count": 4,
   "metadata": {
    "collapsed": false
   },
   "outputs": [
    {
     "data": {
      "text/html": [
       "<div>\n",
       "<table border=\"1\" class=\"dataframe\">\n",
       "  <thead>\n",
       "    <tr style=\"text-align: right;\">\n",
       "      <th></th>\n",
       "      <th>ASIN</th>\n",
       "      <th>oct15_count</th>\n",
       "      <th>nov15_count</th>\n",
       "      <th>dec15_count</th>\n",
       "      <th>jan16_count</th>\n",
       "      <th>feb16_count</th>\n",
       "      <th>mar16_count</th>\n",
       "      <th>apr16_count</th>\n",
       "      <th>may16_count</th>\n",
       "      <th>jun16_count</th>\n",
       "      <th>jul16_count</th>\n",
       "      <th>aug16_count</th>\n",
       "      <th>sep16_count</th>\n",
       "      <th>oct16_count</th>\n",
       "      <th>total_count</th>\n",
       "    </tr>\n",
       "  </thead>\n",
       "  <tbody>\n",
       "    <tr>\n",
       "      <th>0</th>\n",
       "      <td>B003LSM9QQ</td>\n",
       "      <td>14</td>\n",
       "      <td>3</td>\n",
       "      <td>7</td>\n",
       "      <td>2</td>\n",
       "      <td>19</td>\n",
       "      <td>7</td>\n",
       "      <td>2</td>\n",
       "      <td>2</td>\n",
       "      <td>17</td>\n",
       "      <td>15</td>\n",
       "      <td>12</td>\n",
       "      <td>12</td>\n",
       "      <td>36</td>\n",
       "      <td>148</td>\n",
       "    </tr>\n",
       "    <tr>\n",
       "      <th>1</th>\n",
       "      <td>B00L4S0XR2</td>\n",
       "      <td>11</td>\n",
       "      <td>21</td>\n",
       "      <td>8</td>\n",
       "      <td>12</td>\n",
       "      <td>5</td>\n",
       "      <td>22</td>\n",
       "      <td>9</td>\n",
       "      <td>18</td>\n",
       "      <td>7</td>\n",
       "      <td>10</td>\n",
       "      <td>2</td>\n",
       "      <td>2</td>\n",
       "      <td>5</td>\n",
       "      <td>132</td>\n",
       "    </tr>\n",
       "    <tr>\n",
       "      <th>2</th>\n",
       "      <td>B016CUXPG2</td>\n",
       "      <td>65</td>\n",
       "      <td>27</td>\n",
       "      <td>27</td>\n",
       "      <td>8</td>\n",
       "      <td>11</td>\n",
       "      <td>9</td>\n",
       "      <td>11</td>\n",
       "      <td>2</td>\n",
       "      <td>9</td>\n",
       "      <td>19</td>\n",
       "      <td>52</td>\n",
       "      <td>52</td>\n",
       "      <td>24</td>\n",
       "      <td>316</td>\n",
       "    </tr>\n",
       "    <tr>\n",
       "      <th>3</th>\n",
       "      <td>B00URAYTHI</td>\n",
       "      <td>1</td>\n",
       "      <td>1</td>\n",
       "      <td>6</td>\n",
       "      <td>2</td>\n",
       "      <td>6</td>\n",
       "      <td>17</td>\n",
       "      <td>7</td>\n",
       "      <td>3</td>\n",
       "      <td>10</td>\n",
       "      <td>20</td>\n",
       "      <td>15</td>\n",
       "      <td>15</td>\n",
       "      <td>7</td>\n",
       "      <td>110</td>\n",
       "    </tr>\n",
       "    <tr>\n",
       "      <th>4</th>\n",
       "      <td>B0085X62Z6</td>\n",
       "      <td>33</td>\n",
       "      <td>30</td>\n",
       "      <td>18</td>\n",
       "      <td>24</td>\n",
       "      <td>30</td>\n",
       "      <td>45</td>\n",
       "      <td>36</td>\n",
       "      <td>59</td>\n",
       "      <td>52</td>\n",
       "      <td>30</td>\n",
       "      <td>30</td>\n",
       "      <td>30</td>\n",
       "      <td>14</td>\n",
       "      <td>431</td>\n",
       "    </tr>\n",
       "  </tbody>\n",
       "</table>\n",
       "</div>"
      ],
      "text/plain": [
       "         ASIN  oct15_count  nov15_count  dec15_count  jan16_count  \\\n",
       "0  B003LSM9QQ           14            3            7            2   \n",
       "1  B00L4S0XR2           11           21            8           12   \n",
       "2  B016CUXPG2           65           27           27            8   \n",
       "3  B00URAYTHI            1            1            6            2   \n",
       "4  B0085X62Z6           33           30           18           24   \n",
       "\n",
       "   feb16_count  mar16_count  apr16_count  may16_count  jun16_count  \\\n",
       "0           19            7            2            2           17   \n",
       "1            5           22            9           18            7   \n",
       "2           11            9           11            2            9   \n",
       "3            6           17            7            3           10   \n",
       "4           30           45           36           59           52   \n",
       "\n",
       "   jul16_count  aug16_count  sep16_count  oct16_count  total_count  \n",
       "0           15           12           12           36          148  \n",
       "1           10            2            2            5          132  \n",
       "2           19           52           52           24          316  \n",
       "3           20           15           15            7          110  \n",
       "4           30           30           30           14          431  "
      ]
     },
     "execution_count": 4,
     "metadata": {},
     "output_type": "execute_result"
    }
   ],
   "source": [
    "df.head()"
   ]
  },
  {
   "cell_type": "code",
   "execution_count": 5,
   "metadata": {
    "collapsed": true
   },
   "outputs": [],
   "source": [
    "df150 = df[df.total_count >= 150]"
   ]
  },
  {
   "cell_type": "code",
   "execution_count": 6,
   "metadata": {
    "collapsed": false
   },
   "outputs": [
    {
     "data": {
      "text/plain": [
       "(36544, 15)"
      ]
     },
     "execution_count": 6,
     "metadata": {},
     "output_type": "execute_result"
    }
   ],
   "source": [
    "df150.shape"
   ]
  },
  {
   "cell_type": "code",
   "execution_count": 7,
   "metadata": {
    "collapsed": true
   },
   "outputs": [],
   "source": [
    "df150 = df150[df150.oct16_count != 0]"
   ]
  },
  {
   "cell_type": "code",
   "execution_count": 8,
   "metadata": {
    "collapsed": true
   },
   "outputs": [],
   "source": [
    "df150 = df150.reset_index(drop=True)"
   ]
  },
  {
   "cell_type": "code",
   "execution_count": 9,
   "metadata": {
    "collapsed": true
   },
   "outputs": [],
   "source": [
    "df150 = df150.T"
   ]
  },
  {
   "cell_type": "code",
   "execution_count": 10,
   "metadata": {
    "collapsed": false
   },
   "outputs": [
    {
     "data": {
      "text/html": [
       "<div>\n",
       "<table border=\"1\" class=\"dataframe\">\n",
       "  <thead>\n",
       "    <tr style=\"text-align: right;\">\n",
       "      <th></th>\n",
       "      <th>0</th>\n",
       "      <th>1</th>\n",
       "      <th>2</th>\n",
       "      <th>3</th>\n",
       "      <th>4</th>\n",
       "      <th>5</th>\n",
       "      <th>6</th>\n",
       "      <th>7</th>\n",
       "      <th>8</th>\n",
       "      <th>9</th>\n",
       "      <th>...</th>\n",
       "      <th>33514</th>\n",
       "      <th>33515</th>\n",
       "      <th>33516</th>\n",
       "      <th>33517</th>\n",
       "      <th>33518</th>\n",
       "      <th>33519</th>\n",
       "      <th>33520</th>\n",
       "      <th>33521</th>\n",
       "      <th>33522</th>\n",
       "      <th>33523</th>\n",
       "    </tr>\n",
       "  </thead>\n",
       "  <tbody>\n",
       "    <tr>\n",
       "      <th>ASIN</th>\n",
       "      <td>B016CUXPG2</td>\n",
       "      <td>B0085X62Z6</td>\n",
       "      <td>B00FNKMVUO</td>\n",
       "      <td>B00KGET2MW</td>\n",
       "      <td>B00004SQPD</td>\n",
       "      <td>B0089L0M2S</td>\n",
       "      <td>B00MQYQSUO</td>\n",
       "      <td>B014RATZIQ</td>\n",
       "      <td>B00UKJEB06</td>\n",
       "      <td>B004P5W81A</td>\n",
       "      <td>...</td>\n",
       "      <td>B01F60SJ88</td>\n",
       "      <td>B0182T5WRQ</td>\n",
       "      <td>B01HIQJ9X2</td>\n",
       "      <td>B01HDQ78TE</td>\n",
       "      <td>B012R6PNPQ</td>\n",
       "      <td>0545915961</td>\n",
       "      <td>B01D1FWJZE</td>\n",
       "      <td>B0042SUIDA</td>\n",
       "      <td>B01H5LQZR8</td>\n",
       "      <td>B0156VGLWI</td>\n",
       "    </tr>\n",
       "    <tr>\n",
       "      <th>oct15_count</th>\n",
       "      <td>65</td>\n",
       "      <td>33</td>\n",
       "      <td>28</td>\n",
       "      <td>1</td>\n",
       "      <td>2</td>\n",
       "      <td>23</td>\n",
       "      <td>5</td>\n",
       "      <td>50</td>\n",
       "      <td>192</td>\n",
       "      <td>16</td>\n",
       "      <td>...</td>\n",
       "      <td>0</td>\n",
       "      <td>0</td>\n",
       "      <td>0</td>\n",
       "      <td>0</td>\n",
       "      <td>0</td>\n",
       "      <td>0</td>\n",
       "      <td>0</td>\n",
       "      <td>0</td>\n",
       "      <td>0</td>\n",
       "      <td>0</td>\n",
       "    </tr>\n",
       "    <tr>\n",
       "      <th>nov15_count</th>\n",
       "      <td>27</td>\n",
       "      <td>30</td>\n",
       "      <td>34</td>\n",
       "      <td>4</td>\n",
       "      <td>5</td>\n",
       "      <td>30</td>\n",
       "      <td>2</td>\n",
       "      <td>44</td>\n",
       "      <td>106</td>\n",
       "      <td>6</td>\n",
       "      <td>...</td>\n",
       "      <td>0</td>\n",
       "      <td>0</td>\n",
       "      <td>0</td>\n",
       "      <td>0</td>\n",
       "      <td>0</td>\n",
       "      <td>2</td>\n",
       "      <td>0</td>\n",
       "      <td>1</td>\n",
       "      <td>0</td>\n",
       "      <td>5</td>\n",
       "    </tr>\n",
       "    <tr>\n",
       "      <th>dec15_count</th>\n",
       "      <td>27</td>\n",
       "      <td>18</td>\n",
       "      <td>57</td>\n",
       "      <td>1</td>\n",
       "      <td>3</td>\n",
       "      <td>43</td>\n",
       "      <td>7</td>\n",
       "      <td>16</td>\n",
       "      <td>62</td>\n",
       "      <td>0</td>\n",
       "      <td>...</td>\n",
       "      <td>0</td>\n",
       "      <td>27</td>\n",
       "      <td>0</td>\n",
       "      <td>0</td>\n",
       "      <td>27</td>\n",
       "      <td>5</td>\n",
       "      <td>0</td>\n",
       "      <td>4</td>\n",
       "      <td>0</td>\n",
       "      <td>10</td>\n",
       "    </tr>\n",
       "    <tr>\n",
       "      <th>jan16_count</th>\n",
       "      <td>8</td>\n",
       "      <td>24</td>\n",
       "      <td>36</td>\n",
       "      <td>3</td>\n",
       "      <td>10</td>\n",
       "      <td>18</td>\n",
       "      <td>9</td>\n",
       "      <td>39</td>\n",
       "      <td>30</td>\n",
       "      <td>6</td>\n",
       "      <td>...</td>\n",
       "      <td>0</td>\n",
       "      <td>34</td>\n",
       "      <td>0</td>\n",
       "      <td>0</td>\n",
       "      <td>11</td>\n",
       "      <td>6</td>\n",
       "      <td>0</td>\n",
       "      <td>0</td>\n",
       "      <td>0</td>\n",
       "      <td>16</td>\n",
       "    </tr>\n",
       "    <tr>\n",
       "      <th>feb16_count</th>\n",
       "      <td>11</td>\n",
       "      <td>30</td>\n",
       "      <td>42</td>\n",
       "      <td>1</td>\n",
       "      <td>3</td>\n",
       "      <td>12</td>\n",
       "      <td>63</td>\n",
       "      <td>31</td>\n",
       "      <td>14</td>\n",
       "      <td>16</td>\n",
       "      <td>...</td>\n",
       "      <td>0</td>\n",
       "      <td>6</td>\n",
       "      <td>0</td>\n",
       "      <td>0</td>\n",
       "      <td>22</td>\n",
       "      <td>9</td>\n",
       "      <td>0</td>\n",
       "      <td>10</td>\n",
       "      <td>0</td>\n",
       "      <td>47</td>\n",
       "    </tr>\n",
       "    <tr>\n",
       "      <th>mar16_count</th>\n",
       "      <td>9</td>\n",
       "      <td>45</td>\n",
       "      <td>75</td>\n",
       "      <td>2</td>\n",
       "      <td>6</td>\n",
       "      <td>8</td>\n",
       "      <td>54</td>\n",
       "      <td>33</td>\n",
       "      <td>27</td>\n",
       "      <td>19</td>\n",
       "      <td>...</td>\n",
       "      <td>0</td>\n",
       "      <td>30</td>\n",
       "      <td>0</td>\n",
       "      <td>0</td>\n",
       "      <td>14</td>\n",
       "      <td>9</td>\n",
       "      <td>0</td>\n",
       "      <td>6</td>\n",
       "      <td>0</td>\n",
       "      <td>22</td>\n",
       "    </tr>\n",
       "    <tr>\n",
       "      <th>apr16_count</th>\n",
       "      <td>11</td>\n",
       "      <td>36</td>\n",
       "      <td>50</td>\n",
       "      <td>3</td>\n",
       "      <td>6</td>\n",
       "      <td>12</td>\n",
       "      <td>16</td>\n",
       "      <td>31</td>\n",
       "      <td>9</td>\n",
       "      <td>11</td>\n",
       "      <td>...</td>\n",
       "      <td>0</td>\n",
       "      <td>19</td>\n",
       "      <td>0</td>\n",
       "      <td>0</td>\n",
       "      <td>19</td>\n",
       "      <td>18</td>\n",
       "      <td>0</td>\n",
       "      <td>3</td>\n",
       "      <td>0</td>\n",
       "      <td>10</td>\n",
       "    </tr>\n",
       "    <tr>\n",
       "      <th>may16_count</th>\n",
       "      <td>2</td>\n",
       "      <td>59</td>\n",
       "      <td>87</td>\n",
       "      <td>14</td>\n",
       "      <td>4</td>\n",
       "      <td>9</td>\n",
       "      <td>17</td>\n",
       "      <td>1</td>\n",
       "      <td>7</td>\n",
       "      <td>8</td>\n",
       "      <td>...</td>\n",
       "      <td>4</td>\n",
       "      <td>8</td>\n",
       "      <td>0</td>\n",
       "      <td>0</td>\n",
       "      <td>5</td>\n",
       "      <td>11</td>\n",
       "      <td>5</td>\n",
       "      <td>14</td>\n",
       "      <td>0</td>\n",
       "      <td>15</td>\n",
       "    </tr>\n",
       "    <tr>\n",
       "      <th>jun16_count</th>\n",
       "      <td>9</td>\n",
       "      <td>52</td>\n",
       "      <td>46</td>\n",
       "      <td>9</td>\n",
       "      <td>4</td>\n",
       "      <td>9</td>\n",
       "      <td>14</td>\n",
       "      <td>0</td>\n",
       "      <td>4</td>\n",
       "      <td>9</td>\n",
       "      <td>...</td>\n",
       "      <td>36</td>\n",
       "      <td>4</td>\n",
       "      <td>19</td>\n",
       "      <td>0</td>\n",
       "      <td>7</td>\n",
       "      <td>15</td>\n",
       "      <td>73</td>\n",
       "      <td>21</td>\n",
       "      <td>16</td>\n",
       "      <td>14</td>\n",
       "    </tr>\n",
       "    <tr>\n",
       "      <th>jul16_count</th>\n",
       "      <td>19</td>\n",
       "      <td>30</td>\n",
       "      <td>131</td>\n",
       "      <td>14</td>\n",
       "      <td>25</td>\n",
       "      <td>23</td>\n",
       "      <td>21</td>\n",
       "      <td>0</td>\n",
       "      <td>10</td>\n",
       "      <td>13</td>\n",
       "      <td>...</td>\n",
       "      <td>23</td>\n",
       "      <td>15</td>\n",
       "      <td>3</td>\n",
       "      <td>233</td>\n",
       "      <td>13</td>\n",
       "      <td>8</td>\n",
       "      <td>40</td>\n",
       "      <td>38</td>\n",
       "      <td>30</td>\n",
       "      <td>17</td>\n",
       "    </tr>\n",
       "    <tr>\n",
       "      <th>aug16_count</th>\n",
       "      <td>52</td>\n",
       "      <td>30</td>\n",
       "      <td>106</td>\n",
       "      <td>33</td>\n",
       "      <td>43</td>\n",
       "      <td>28</td>\n",
       "      <td>14</td>\n",
       "      <td>0</td>\n",
       "      <td>11</td>\n",
       "      <td>24</td>\n",
       "      <td>...</td>\n",
       "      <td>37</td>\n",
       "      <td>18</td>\n",
       "      <td>66</td>\n",
       "      <td>112</td>\n",
       "      <td>38</td>\n",
       "      <td>26</td>\n",
       "      <td>27</td>\n",
       "      <td>23</td>\n",
       "      <td>75</td>\n",
       "      <td>5</td>\n",
       "    </tr>\n",
       "    <tr>\n",
       "      <th>sep16_count</th>\n",
       "      <td>52</td>\n",
       "      <td>30</td>\n",
       "      <td>106</td>\n",
       "      <td>33</td>\n",
       "      <td>43</td>\n",
       "      <td>28</td>\n",
       "      <td>14</td>\n",
       "      <td>0</td>\n",
       "      <td>11</td>\n",
       "      <td>24</td>\n",
       "      <td>...</td>\n",
       "      <td>37</td>\n",
       "      <td>18</td>\n",
       "      <td>66</td>\n",
       "      <td>112</td>\n",
       "      <td>38</td>\n",
       "      <td>26</td>\n",
       "      <td>27</td>\n",
       "      <td>23</td>\n",
       "      <td>75</td>\n",
       "      <td>5</td>\n",
       "    </tr>\n",
       "    <tr>\n",
       "      <th>oct16_count</th>\n",
       "      <td>24</td>\n",
       "      <td>14</td>\n",
       "      <td>82</td>\n",
       "      <td>45</td>\n",
       "      <td>12</td>\n",
       "      <td>13</td>\n",
       "      <td>15</td>\n",
       "      <td>2</td>\n",
       "      <td>12</td>\n",
       "      <td>8</td>\n",
       "      <td>...</td>\n",
       "      <td>20</td>\n",
       "      <td>21</td>\n",
       "      <td>4</td>\n",
       "      <td>25</td>\n",
       "      <td>25</td>\n",
       "      <td>24</td>\n",
       "      <td>52</td>\n",
       "      <td>11</td>\n",
       "      <td>38</td>\n",
       "      <td>54</td>\n",
       "    </tr>\n",
       "    <tr>\n",
       "      <th>total_count</th>\n",
       "      <td>316</td>\n",
       "      <td>431</td>\n",
       "      <td>880</td>\n",
       "      <td>163</td>\n",
       "      <td>166</td>\n",
       "      <td>256</td>\n",
       "      <td>251</td>\n",
       "      <td>247</td>\n",
       "      <td>495</td>\n",
       "      <td>160</td>\n",
       "      <td>...</td>\n",
       "      <td>157</td>\n",
       "      <td>200</td>\n",
       "      <td>158</td>\n",
       "      <td>482</td>\n",
       "      <td>219</td>\n",
       "      <td>159</td>\n",
       "      <td>224</td>\n",
       "      <td>154</td>\n",
       "      <td>234</td>\n",
       "      <td>220</td>\n",
       "    </tr>\n",
       "  </tbody>\n",
       "</table>\n",
       "<p>15 rows × 33524 columns</p>\n",
       "</div>"
      ],
      "text/plain": [
       "                  0           1           2           3           4      \\\n",
       "ASIN         B016CUXPG2  B0085X62Z6  B00FNKMVUO  B00KGET2MW  B00004SQPD   \n",
       "oct15_count          65          33          28           1           2   \n",
       "nov15_count          27          30          34           4           5   \n",
       "dec15_count          27          18          57           1           3   \n",
       "jan16_count           8          24          36           3          10   \n",
       "feb16_count          11          30          42           1           3   \n",
       "mar16_count           9          45          75           2           6   \n",
       "apr16_count          11          36          50           3           6   \n",
       "may16_count           2          59          87          14           4   \n",
       "jun16_count           9          52          46           9           4   \n",
       "jul16_count          19          30         131          14          25   \n",
       "aug16_count          52          30         106          33          43   \n",
       "sep16_count          52          30         106          33          43   \n",
       "oct16_count          24          14          82          45          12   \n",
       "total_count         316         431         880         163         166   \n",
       "\n",
       "                  5           6           7           8           9      \\\n",
       "ASIN         B0089L0M2S  B00MQYQSUO  B014RATZIQ  B00UKJEB06  B004P5W81A   \n",
       "oct15_count          23           5          50         192          16   \n",
       "nov15_count          30           2          44         106           6   \n",
       "dec15_count          43           7          16          62           0   \n",
       "jan16_count          18           9          39          30           6   \n",
       "feb16_count          12          63          31          14          16   \n",
       "mar16_count           8          54          33          27          19   \n",
       "apr16_count          12          16          31           9          11   \n",
       "may16_count           9          17           1           7           8   \n",
       "jun16_count           9          14           0           4           9   \n",
       "jul16_count          23          21           0          10          13   \n",
       "aug16_count          28          14           0          11          24   \n",
       "sep16_count          28          14           0          11          24   \n",
       "oct16_count          13          15           2          12           8   \n",
       "total_count         256         251         247         495         160   \n",
       "\n",
       "                ...           33514       33515       33516       33517  \\\n",
       "ASIN            ...      B01F60SJ88  B0182T5WRQ  B01HIQJ9X2  B01HDQ78TE   \n",
       "oct15_count     ...               0           0           0           0   \n",
       "nov15_count     ...               0           0           0           0   \n",
       "dec15_count     ...               0          27           0           0   \n",
       "jan16_count     ...               0          34           0           0   \n",
       "feb16_count     ...               0           6           0           0   \n",
       "mar16_count     ...               0          30           0           0   \n",
       "apr16_count     ...               0          19           0           0   \n",
       "may16_count     ...               4           8           0           0   \n",
       "jun16_count     ...              36           4          19           0   \n",
       "jul16_count     ...              23          15           3         233   \n",
       "aug16_count     ...              37          18          66         112   \n",
       "sep16_count     ...              37          18          66         112   \n",
       "oct16_count     ...              20          21           4          25   \n",
       "total_count     ...             157         200         158         482   \n",
       "\n",
       "                  33518       33519       33520       33521       33522  \\\n",
       "ASIN         B012R6PNPQ  0545915961  B01D1FWJZE  B0042SUIDA  B01H5LQZR8   \n",
       "oct15_count           0           0           0           0           0   \n",
       "nov15_count           0           2           0           1           0   \n",
       "dec15_count          27           5           0           4           0   \n",
       "jan16_count          11           6           0           0           0   \n",
       "feb16_count          22           9           0          10           0   \n",
       "mar16_count          14           9           0           6           0   \n",
       "apr16_count          19          18           0           3           0   \n",
       "may16_count           5          11           5          14           0   \n",
       "jun16_count           7          15          73          21          16   \n",
       "jul16_count          13           8          40          38          30   \n",
       "aug16_count          38          26          27          23          75   \n",
       "sep16_count          38          26          27          23          75   \n",
       "oct16_count          25          24          52          11          38   \n",
       "total_count         219         159         224         154         234   \n",
       "\n",
       "                  33523  \n",
       "ASIN         B0156VGLWI  \n",
       "oct15_count           0  \n",
       "nov15_count           5  \n",
       "dec15_count          10  \n",
       "jan16_count          16  \n",
       "feb16_count          47  \n",
       "mar16_count          22  \n",
       "apr16_count          10  \n",
       "may16_count          15  \n",
       "jun16_count          14  \n",
       "jul16_count          17  \n",
       "aug16_count           5  \n",
       "sep16_count           5  \n",
       "oct16_count          54  \n",
       "total_count         220  \n",
       "\n",
       "[15 rows x 33524 columns]"
      ]
     },
     "execution_count": 10,
     "metadata": {},
     "output_type": "execute_result"
    }
   ],
   "source": [
    "df150.head(20)"
   ]
  },
  {
   "cell_type": "code",
   "execution_count": 11,
   "metadata": {
    "collapsed": false
   },
   "outputs": [],
   "source": [
    "df_res = df150[14:15]"
   ]
  },
  {
   "cell_type": "code",
   "execution_count": 13,
   "metadata": {
    "collapsed": false
   },
   "outputs": [],
   "source": [
    "df150 = df150[1:14]"
   ]
  },
  {
   "cell_type": "code",
   "execution_count": 14,
   "metadata": {
    "collapsed": true
   },
   "outputs": [],
   "source": [
    "df150_copy = df150.copy(deep=True)"
   ]
  },
  {
   "cell_type": "code",
   "execution_count": 15,
   "metadata": {
    "collapsed": true
   },
   "outputs": [],
   "source": [
    "df150_copy['time'] = '10/1/2015'"
   ]
  },
  {
   "cell_type": "code",
   "execution_count": 16,
   "metadata": {
    "collapsed": true
   },
   "outputs": [],
   "source": [
    "df150_copy.time[1] ='11/1/2015'\n",
    "df150_copy.time[2] ='12/1/2015'\n",
    "df150_copy.time[3] ='1/1/2016'\n",
    "df150_copy.time[4] ='2/1/2016'\n",
    "df150_copy.time[5] ='3/1/2016'\n",
    "df150_copy.time[6] ='4/1/2016'\n",
    "df150_copy.time[7] ='5/1/2016'\n",
    "df150_copy.time[8] ='6/1/2016'\n",
    "df150_copy.time[9] ='7/1/2016'\n",
    "df150_copy.time[10]='8/1/2016'\n",
    "df150_copy.time[11]='9/1/2016'\n",
    "df150_copy.time[12]='10/1/2016'"
   ]
  },
  {
   "cell_type": "code",
   "execution_count": 17,
   "metadata": {
    "collapsed": false
   },
   "outputs": [],
   "source": [
    "from pandas.tseries.offsets import *\n",
    "import numpy as np\n",
    "import matplotlib.pyplot as plt\n",
    "import statsmodels.api as sm"
   ]
  },
  {
   "cell_type": "code",
   "execution_count": 18,
   "metadata": {
    "collapsed": false
   },
   "outputs": [],
   "source": [
    "ts_data = pd.Series(df150_copy[0].values, index=pd.to_datetime(df150_copy.time))"
   ]
  },
  {
   "cell_type": "code",
   "execution_count": 19,
   "metadata": {
    "collapsed": false
   },
   "outputs": [
    {
     "data": {
      "text/plain": [
       "time\n",
       "2015-10-01    65\n",
       "2015-11-01    27\n",
       "2015-12-01    27\n",
       "2016-01-01     8\n",
       "2016-02-01    11\n",
       "2016-03-01     9\n",
       "2016-04-01    11\n",
       "2016-05-01     2\n",
       "2016-06-01     9\n",
       "2016-07-01    19\n",
       "2016-08-01    52\n",
       "2016-09-01    52\n",
       "2016-10-01    24\n",
       "dtype: object"
      ]
     },
     "execution_count": 19,
     "metadata": {},
     "output_type": "execute_result"
    }
   ],
   "source": [
    "ts_data"
   ]
  },
  {
   "cell_type": "code",
   "execution_count": 20,
   "metadata": {
    "collapsed": true
   },
   "outputs": [],
   "source": [
    "ts_log_data = np.log(ts_data.astype('float64'))"
   ]
  },
  {
   "cell_type": "code",
   "execution_count": 21,
   "metadata": {
    "collapsed": true
   },
   "outputs": [],
   "source": [
    "model = sm.tsa.ARMA(ts_log_data, (1,0,1)).fit()"
   ]
  },
  {
   "cell_type": "code",
   "execution_count": 22,
   "metadata": {
    "collapsed": false
   },
   "outputs": [
    {
     "name": "stdout",
     "output_type": "stream",
     "text": [
      "const      2.955138\n",
      "ar.L1.y    0.535548\n",
      "dtype: float64\n"
     ]
    }
   ],
   "source": [
    "print(model.params)"
   ]
  },
  {
   "cell_type": "code",
   "execution_count": 23,
   "metadata": {
    "collapsed": true
   },
   "outputs": [],
   "source": [
    "start_date = ts_log_data.index[-1] + Day(31)\n",
    "end_date = ts_log_data.index[-1] + Day(180)"
   ]
  },
  {
   "cell_type": "code",
   "execution_count": 24,
   "metadata": {
    "collapsed": false
   },
   "outputs": [
    {
     "name": "stderr",
     "output_type": "stream",
     "text": [
      "/home/owais/anaconda2/lib/python2.7/site-packages/statsmodels/base/data.py:503: FutureWarning: TimeSeries is deprecated. Please use Series\n",
      "  return TimeSeries(result, index=self.predict_dates)\n"
     ]
    }
   ],
   "source": [
    "y_forecast = model.predict(start_date.isoformat(), end_date.isoformat())"
   ]
  },
  {
   "cell_type": "code",
   "execution_count": 25,
   "metadata": {
    "collapsed": false
   },
   "outputs": [
    {
     "name": "stdout",
     "output_type": "stream",
     "text": [
      "2016-11-01    21.639494\n",
      "2016-12-01    20.472300\n",
      "2017-01-01    19.873319\n",
      "2017-02-01    19.559775\n",
      "2017-03-01    19.393897\n",
      "Freq: MS, dtype: float64\n"
     ]
    }
   ],
   "source": [
    "print(np.exp(y_forecast))"
   ]
  },
  {
   "cell_type": "code",
   "execution_count": 26,
   "metadata": {
    "collapsed": true
   },
   "outputs": [],
   "source": [
    "i=0\n",
    "j=0\n",
    "k=0\n",
    "l=0\n",
    "m=0"
   ]
  },
  {
   "cell_type": "code",
   "execution_count": 33,
   "metadata": {
    "collapsed": false
   },
   "outputs": [],
   "source": [
    "for y in range(0, len(df150_copy.columns)):\n",
    "    try:\n",
    "        try:\n",
    "            try:\n",
    "                try:\n",
    "                    ts_data = pd.Series(df150_copy[y].values, index=pd.to_datetime(df150_copy.time))\n",
    "                    ts_log_data = np.log(ts_data.astype('float64'))\n",
    "                    model =  sm.tsa.ARMA(ts_log_data, (3,0,3)).fit()\n",
    "                    y_forecast = model.predict(start_date.isoformat(), end_date.isoformat())\n",
    "                    df_res[y][0] = np.exp(y_forecast)\n",
    "                    i = i+1\n",
    "                except:\n",
    "                    ts_data = pd.Series(df150_copy[y].values, index=pd.to_datetime(df150_copy.time))\n",
    "                    ts_log_data = np.log(ts_data.astype('float64'))\n",
    "                    model = sm.tsa.ARMA(ts_log_data, (2,0,2)).fit()\n",
    "                    y_forecast = model.predict(start_date.isoformat(), end_date.isoformat())\n",
    "                    df_res[y][0] = np.exp(y_forecast)\n",
    "                    j = j+1\n",
    "            except:\n",
    "                ts_data = pd.Series(df150_copy[y].values, index=pd.to_datetime(df150_copy.time))\n",
    "                ts_log_data = np.log(ts_data.astype('float64'))\n",
    "                model = sm.tsa.ARMA(ts_log_data, (1,0,1)).fit()\n",
    "                y_forecast = model.predict(start_date.isoformat(), end_date.isoformat())\n",
    "                df_res[y][0] = np.exp(y_forecast)\n",
    "                k = k+1\n",
    "        except:\n",
    "            ts_data = pd.Series(df150_copy[y].values, index=pd.to_datetime(df150_copy.time))\n",
    "            ts_log_data = np.log(ts_data.astype('float64'))\n",
    "            model = sm.tsa.ARMA(ts_log_data, (1,0)).fit()\n",
    "            y_forecast = model.predict(start_date.isoformat(), end_date.isoformat())\n",
    "            df_res[y][0] = np.exp(y_forecast)\n",
    "            l = l+1\n",
    "    except:\n",
    "        print y"
   ]
  },
  {
   "cell_type": "code",
   "execution_count": 35,
   "metadata": {
    "collapsed": false
   },
   "outputs": [
    {
     "name": "stdout",
     "output_type": "stream",
     "text": [
      "(6, 0, 0, 0)\n"
     ]
    }
   ],
   "source": [
    "print (i,j,l,m)"
   ]
  },
  {
   "cell_type": "code",
   "execution_count": 36,
   "metadata": {
    "collapsed": true
   },
   "outputs": [],
   "source": [
    "prediction = df_res.T"
   ]
  },
  {
   "cell_type": "code",
   "execution_count": null,
   "metadata": {
    "collapsed": true
   },
   "outputs": [],
   "source": [
    "prediction.to_csv('ASIN_Predicted_Result.csv', sep=',')"
   ]
  }
 ],
 "metadata": {
  "anaconda-cloud": {},
  "kernelspec": {
   "display_name": "Python [conda root]",
   "language": "python",
   "name": "conda-root-py"
  },
  "language_info": {
   "codemirror_mode": {
    "name": "ipython",
    "version": 2
   },
   "file_extension": ".py",
   "mimetype": "text/x-python",
   "name": "python",
   "nbconvert_exporter": "python",
   "pygments_lexer": "ipython2",
   "version": "2.7.12"
  }
 },
 "nbformat": 4,
 "nbformat_minor": 1
}
